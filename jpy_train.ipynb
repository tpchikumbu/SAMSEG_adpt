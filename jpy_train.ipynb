{
 "cells": [
  {
   "cell_type": "markdown",
   "metadata": {},
   "source": [
    "# Imports and setup"
   ]
  },
  {
   "cell_type": "code",
   "execution_count": 4,
   "metadata": {},
   "outputs": [
    {
     "name": "stderr",
     "output_type": "stream",
     "text": [
      "253.36s - pydevd: Sending message related to process being replaced timed-out after 5 seconds\n"
     ]
    },
    {
     "name": "stdout",
     "output_type": "stream",
     "text": [
      "Defaulting to user installation because normal site-packages is not writeable\n",
      "Collecting numpy==1.24.1\n",
      "  Downloading numpy-1.24.1-cp310-cp310-manylinux_2_17_x86_64.manylinux2014_x86_64.whl (17.3 MB)\n",
      "\u001b[2K     \u001b[90m━━━━━━━━━━━━━━━━━━━━━━━━━━━━━━━━━━━━━━━━\u001b[0m \u001b[32m17.3/17.3 MB\u001b[0m \u001b[31m8.0 MB/s\u001b[0m eta \u001b[36m0:00:00\u001b[0m00:01\u001b[0m00:01\u001b[0m\n",
      "\u001b[?25hRequirement already satisfied: opencv-python in /home/peter/.local/lib/python3.10/site-packages (from -r requirements.txt (line 2)) (4.10.0.84)\n",
      "Requirement already satisfied: torch in /home/peter/.local/lib/python3.10/site-packages (from -r requirements.txt (line 3)) (2.4.1)\n",
      "Requirement already satisfied: torchvision in /home/peter/.local/lib/python3.10/site-packages (from -r requirements.txt (line 4)) (0.19.1)\n",
      "Requirement already satisfied: matplotlib in /home/peter/.local/lib/python3.10/site-packages (from -r requirements.txt (line 5)) (3.9.2)\n",
      "Requirement already satisfied: monai in /home/peter/.local/lib/python3.10/site-packages (from -r requirements.txt (line 6)) (1.3.2)\n",
      "Requirement already satisfied: nibabel in /home/peter/.local/lib/python3.10/site-packages (from -r requirements.txt (line 7)) (5.2.1)\n",
      "Requirement already satisfied: scikit-learn in /home/peter/.local/lib/python3.10/site-packages (from -r requirements.txt (line 8)) (1.5.1)\n",
      "Requirement already satisfied: scikit-image in /home/peter/.local/lib/python3.10/site-packages (from -r requirements.txt (line 9)) (0.24.0)\n",
      "Requirement already satisfied: synapseclient in /home/peter/.local/lib/python3.10/site-packages (from -r requirements.txt (line 10)) (4.4.1)\n",
      "Requirement already satisfied: safetensors in /home/peter/.local/lib/python3.10/site-packages (from -r requirements.txt (line 11)) (0.4.5)\n",
      "Requirement already satisfied: PyYAML in /home/peter/.local/lib/python3.10/site-packages (from -r requirements.txt (line 12)) (6.0.2)\n",
      "Requirement already satisfied: fsspec in /home/peter/.local/lib/python3.10/site-packages (from torch->-r requirements.txt (line 3)) (2024.9.0)\n",
      "Requirement already satisfied: jinja2 in /home/peter/.local/lib/python3.10/site-packages (from torch->-r requirements.txt (line 3)) (3.1.4)\n",
      "Requirement already satisfied: nvidia-cudnn-cu12==9.1.0.70 in /home/peter/.local/lib/python3.10/site-packages (from torch->-r requirements.txt (line 3)) (9.1.0.70)\n",
      "Requirement already satisfied: triton==3.0.0 in /home/peter/.local/lib/python3.10/site-packages (from torch->-r requirements.txt (line 3)) (3.0.0)\n",
      "Requirement already satisfied: nvidia-nvtx-cu12==12.1.105 in /home/peter/.local/lib/python3.10/site-packages (from torch->-r requirements.txt (line 3)) (12.1.105)\n",
      "Requirement already satisfied: nvidia-cusolver-cu12==11.4.5.107 in /home/peter/.local/lib/python3.10/site-packages (from torch->-r requirements.txt (line 3)) (11.4.5.107)\n",
      "Requirement already satisfied: sympy in /home/peter/.local/lib/python3.10/site-packages (from torch->-r requirements.txt (line 3)) (1.13.2)\n",
      "Requirement already satisfied: nvidia-cuda-runtime-cu12==12.1.105 in /home/peter/.local/lib/python3.10/site-packages (from torch->-r requirements.txt (line 3)) (12.1.105)\n",
      "Requirement already satisfied: nvidia-cusparse-cu12==12.1.0.106 in /home/peter/.local/lib/python3.10/site-packages (from torch->-r requirements.txt (line 3)) (12.1.0.106)\n",
      "Requirement already satisfied: nvidia-cuda-cupti-cu12==12.1.105 in /home/peter/.local/lib/python3.10/site-packages (from torch->-r requirements.txt (line 3)) (12.1.105)\n",
      "Requirement already satisfied: networkx in /home/peter/.local/lib/python3.10/site-packages (from torch->-r requirements.txt (line 3)) (3.3)\n",
      "Requirement already satisfied: nvidia-cuda-nvrtc-cu12==12.1.105 in /home/peter/.local/lib/python3.10/site-packages (from torch->-r requirements.txt (line 3)) (12.1.105)\n",
      "Requirement already satisfied: nvidia-cublas-cu12==12.1.3.1 in /home/peter/.local/lib/python3.10/site-packages (from torch->-r requirements.txt (line 3)) (12.1.3.1)\n",
      "Requirement already satisfied: filelock in /home/peter/.local/lib/python3.10/site-packages (from torch->-r requirements.txt (line 3)) (3.15.4)\n",
      "Requirement already satisfied: nvidia-cufft-cu12==11.0.2.54 in /home/peter/.local/lib/python3.10/site-packages (from torch->-r requirements.txt (line 3)) (11.0.2.54)\n",
      "Requirement already satisfied: nvidia-nccl-cu12==2.20.5 in /home/peter/.local/lib/python3.10/site-packages (from torch->-r requirements.txt (line 3)) (2.20.5)\n",
      "Requirement already satisfied: nvidia-curand-cu12==10.3.2.106 in /home/peter/.local/lib/python3.10/site-packages (from torch->-r requirements.txt (line 3)) (10.3.2.106)\n",
      "Requirement already satisfied: typing-extensions>=4.8.0 in /home/peter/.local/lib/python3.10/site-packages (from torch->-r requirements.txt (line 3)) (4.12.2)\n",
      "Requirement already satisfied: nvidia-nvjitlink-cu12 in /home/peter/.local/lib/python3.10/site-packages (from nvidia-cusolver-cu12==11.4.5.107->torch->-r requirements.txt (line 3)) (12.6.68)\n",
      "Requirement already satisfied: pillow!=8.3.*,>=5.3.0 in /home/peter/.local/lib/python3.10/site-packages (from torchvision->-r requirements.txt (line 4)) (10.4.0)\n",
      "Requirement already satisfied: pyparsing>=2.3.1 in /home/peter/.local/lib/python3.10/site-packages (from matplotlib->-r requirements.txt (line 5)) (3.1.4)\n",
      "Requirement already satisfied: python-dateutil>=2.7 in /home/peter/.local/lib/python3.10/site-packages (from matplotlib->-r requirements.txt (line 5)) (2.9.0.post0)\n",
      "Requirement already satisfied: packaging>=20.0 in /home/peter/.local/lib/python3.10/site-packages (from matplotlib->-r requirements.txt (line 5)) (24.1)\n",
      "Requirement already satisfied: contourpy>=1.0.1 in /home/peter/.local/lib/python3.10/site-packages (from matplotlib->-r requirements.txt (line 5)) (1.3.0)\n",
      "Requirement already satisfied: kiwisolver>=1.3.1 in /home/peter/.local/lib/python3.10/site-packages (from matplotlib->-r requirements.txt (line 5)) (1.4.7)\n",
      "Requirement already satisfied: cycler>=0.10 in /home/peter/.local/lib/python3.10/site-packages (from matplotlib->-r requirements.txt (line 5)) (0.12.1)\n",
      "Requirement already satisfied: fonttools>=4.22.0 in /home/peter/.local/lib/python3.10/site-packages (from matplotlib->-r requirements.txt (line 5)) (4.53.1)\n",
      "Requirement already satisfied: threadpoolctl>=3.1.0 in /home/peter/.local/lib/python3.10/site-packages (from scikit-learn->-r requirements.txt (line 8)) (3.5.0)\n",
      "Requirement already satisfied: scipy>=1.6.0 in /home/peter/.local/lib/python3.10/site-packages (from scikit-learn->-r requirements.txt (line 8)) (1.13.1)\n",
      "Requirement already satisfied: joblib>=1.2.0 in /home/peter/.local/lib/python3.10/site-packages (from scikit-learn->-r requirements.txt (line 8)) (1.4.2)\n",
      "Requirement already satisfied: imageio>=2.33 in /home/peter/.local/lib/python3.10/site-packages (from scikit-image->-r requirements.txt (line 9)) (2.35.1)\n",
      "Requirement already satisfied: lazy-loader>=0.4 in /home/peter/.local/lib/python3.10/site-packages (from scikit-image->-r requirements.txt (line 9)) (0.4)\n",
      "Requirement already satisfied: tifffile>=2022.8.12 in /home/peter/.local/lib/python3.10/site-packages (from scikit-image->-r requirements.txt (line 9)) (2024.8.30)\n",
      "Requirement already satisfied: opentelemetry-sdk~=1.21.0 in /home/peter/.local/lib/python3.10/site-packages (from synapseclient->-r requirements.txt (line 10)) (1.21.0)\n",
      "Requirement already satisfied: opentelemetry-exporter-otlp-proto-http~=1.21.0 in /home/peter/.local/lib/python3.10/site-packages (from synapseclient->-r requirements.txt (line 10)) (1.21.0)\n",
      "Requirement already satisfied: async-lru~=2.0.4 in /home/peter/.local/lib/python3.10/site-packages (from synapseclient->-r requirements.txt (line 10)) (2.0.4)\n",
      "Requirement already satisfied: nest-asyncio~=1.6.0 in /home/peter/.local/lib/python3.10/site-packages (from synapseclient->-r requirements.txt (line 10)) (1.6.0)\n",
      "Requirement already satisfied: tqdm<5.0,>=4.66.2 in /home/peter/.local/lib/python3.10/site-packages (from synapseclient->-r requirements.txt (line 10)) (4.66.5)\n",
      "Requirement already satisfied: httpx~=0.27.0 in /home/peter/.local/lib/python3.10/site-packages (from synapseclient->-r requirements.txt (line 10)) (0.27.2)\n",
      "Requirement already satisfied: urllib3<2,>=1.26.18 in /home/peter/.local/lib/python3.10/site-packages (from synapseclient->-r requirements.txt (line 10)) (1.26.20)\n",
      "Requirement already satisfied: opentelemetry-api~=1.21.0 in /home/peter/.local/lib/python3.10/site-packages (from synapseclient->-r requirements.txt (line 10)) (1.21.0)\n",
      "Requirement already satisfied: psutil~=5.9.8 in /home/peter/.local/lib/python3.10/site-packages (from synapseclient->-r requirements.txt (line 10)) (5.9.8)\n",
      "Requirement already satisfied: asyncio-atexit~=1.0.1 in /home/peter/.local/lib/python3.10/site-packages (from synapseclient->-r requirements.txt (line 10)) (1.0.1)\n",
      "Requirement already satisfied: requests<3.0,>=2.22.0 in /home/peter/.local/lib/python3.10/site-packages (from synapseclient->-r requirements.txt (line 10)) (2.32.3)\n",
      "Requirement already satisfied: deprecated<2.0,>=1.2.4 in /home/peter/.local/lib/python3.10/site-packages (from synapseclient->-r requirements.txt (line 10)) (1.2.14)\n",
      "Requirement already satisfied: wrapt<2,>=1.10 in /home/peter/.local/lib/python3.10/site-packages (from deprecated<2.0,>=1.2.4->synapseclient->-r requirements.txt (line 10)) (1.16.0)\n",
      "Requirement already satisfied: httpcore==1.* in /home/peter/.local/lib/python3.10/site-packages (from httpx~=0.27.0->synapseclient->-r requirements.txt (line 10)) (1.0.5)\n",
      "Requirement already satisfied: certifi in /home/peter/.local/lib/python3.10/site-packages (from httpx~=0.27.0->synapseclient->-r requirements.txt (line 10)) (2024.8.30)\n",
      "Requirement already satisfied: sniffio in /home/peter/.local/lib/python3.10/site-packages (from httpx~=0.27.0->synapseclient->-r requirements.txt (line 10)) (1.3.1)\n",
      "Requirement already satisfied: anyio in /home/peter/.local/lib/python3.10/site-packages (from httpx~=0.27.0->synapseclient->-r requirements.txt (line 10)) (4.4.0)\n",
      "Requirement already satisfied: idna in /home/peter/.local/lib/python3.10/site-packages (from httpx~=0.27.0->synapseclient->-r requirements.txt (line 10)) (3.8)\n",
      "Requirement already satisfied: h11<0.15,>=0.13 in /home/peter/.local/lib/python3.10/site-packages (from httpcore==1.*->httpx~=0.27.0->synapseclient->-r requirements.txt (line 10)) (0.14.0)\n",
      "Requirement already satisfied: importlib-metadata<7.0,>=6.0 in /home/peter/.local/lib/python3.10/site-packages (from opentelemetry-api~=1.21.0->synapseclient->-r requirements.txt (line 10)) (6.11.0)\n",
      "Requirement already satisfied: backoff<3.0.0,>=1.10.0 in /home/peter/.local/lib/python3.10/site-packages (from opentelemetry-exporter-otlp-proto-http~=1.21.0->synapseclient->-r requirements.txt (line 10)) (2.2.1)\n",
      "Requirement already satisfied: opentelemetry-exporter-otlp-proto-common==1.21.0 in /home/peter/.local/lib/python3.10/site-packages (from opentelemetry-exporter-otlp-proto-http~=1.21.0->synapseclient->-r requirements.txt (line 10)) (1.21.0)\n",
      "Requirement already satisfied: opentelemetry-proto==1.21.0 in /home/peter/.local/lib/python3.10/site-packages (from opentelemetry-exporter-otlp-proto-http~=1.21.0->synapseclient->-r requirements.txt (line 10)) (1.21.0)\n",
      "Requirement already satisfied: googleapis-common-protos~=1.52 in /home/peter/.local/lib/python3.10/site-packages (from opentelemetry-exporter-otlp-proto-http~=1.21.0->synapseclient->-r requirements.txt (line 10)) (1.65.0)\n",
      "Requirement already satisfied: protobuf<5.0,>=3.19 in /home/peter/.local/lib/python3.10/site-packages (from opentelemetry-proto==1.21.0->opentelemetry-exporter-otlp-proto-http~=1.21.0->synapseclient->-r requirements.txt (line 10)) (4.25.4)\n",
      "Requirement already satisfied: opentelemetry-semantic-conventions==0.42b0 in /home/peter/.local/lib/python3.10/site-packages (from opentelemetry-sdk~=1.21.0->synapseclient->-r requirements.txt (line 10)) (0.42b0)\n",
      "Requirement already satisfied: six>=1.5 in /home/peter/.local/lib/python3.10/site-packages (from python-dateutil>=2.7->matplotlib->-r requirements.txt (line 5)) (1.16.0)\n",
      "Requirement already satisfied: charset-normalizer<4,>=2 in /home/peter/.local/lib/python3.10/site-packages (from requests<3.0,>=2.22.0->synapseclient->-r requirements.txt (line 10)) (3.3.2)\n",
      "Requirement already satisfied: MarkupSafe>=2.0 in /home/peter/.local/lib/python3.10/site-packages (from jinja2->torch->-r requirements.txt (line 3)) (2.1.5)\n",
      "Requirement already satisfied: mpmath<1.4,>=1.1.0 in /home/peter/.local/lib/python3.10/site-packages (from sympy->torch->-r requirements.txt (line 3)) (1.3.0)\n",
      "Requirement already satisfied: zipp>=0.5 in /home/peter/.local/lib/python3.10/site-packages (from importlib-metadata<7.0,>=6.0->opentelemetry-api~=1.21.0->synapseclient->-r requirements.txt (line 10)) (3.20.1)\n",
      "Requirement already satisfied: exceptiongroup>=1.0.2 in /home/peter/.local/lib/python3.10/site-packages (from anyio->httpx~=0.27.0->synapseclient->-r requirements.txt (line 10)) (1.2.2)\n",
      "Installing collected packages: numpy\n",
      "  Attempting uninstall: numpy\n",
      "    Found existing installation: numpy 1.24.0\n",
      "    Uninstalling numpy-1.24.0:\n",
      "      Successfully uninstalled numpy-1.24.0\n",
      "\u001b[31mERROR: pip's dependency resolver does not currently take into account all the packages that are installed. This behaviour is the source of the following dependency conflicts.\n",
      "gradio 4.38.1 requires urllib3~=2.0, but you have urllib3 1.26.20 which is incompatible.\u001b[0m\u001b[31m\n",
      "\u001b[0mSuccessfully installed numpy-1.24.1\n"
     ]
    }
   ],
   "source": [
    "!pip install -r requirements.txt"
   ]
  },
  {
   "cell_type": "code",
   "execution_count": 5,
   "metadata": {},
   "outputs": [
    {
     "name": "stdout",
     "output_type": "stream",
     "text": [
      "Setup complete\n"
     ]
    }
   ],
   "source": [
    "import os\n",
    "import torch\n",
    "import monai\n",
    "from tqdm import tqdm\n",
    "from statistics import mean\n",
    "from torch.utils.data import DataLoader\n",
    "# from torchvision import datasets, transforms\n",
    "from torch.optim import Adam\n",
    "import torch.nn as nn\n",
    "from torch.nn.functional import threshold, normalize\n",
    "import src.utils as utils\n",
    "\n",
    "from src.brats_dataset import BratsDataset, collate_fn\n",
    "from src.brats_processor import Samprocessor, find_slices\n",
    "\n",
    "\n",
    "from src.segment_anything import build_sam_vit_b, SamPredictor\n",
    "from src.lora import LoRA_sam\n",
    "import matplotlib.pyplot as plt\n",
    "import yaml\n",
    "import torch.nn.functional as F\n",
    "\n",
    "print(\"Setup complete\")"
   ]
  }
 ],
 "metadata": {
  "kernelspec": {
   "display_name": "Python 3",
   "language": "python",
   "name": "python3"
  },
  "language_info": {
   "codemirror_mode": {
    "name": "ipython",
    "version": 3
   },
   "file_extension": ".py",
   "mimetype": "text/x-python",
   "name": "python",
   "nbconvert_exporter": "python",
   "pygments_lexer": "ipython3",
   "version": "3.10.12"
  }
 },
 "nbformat": 4,
 "nbformat_minor": 2
}
